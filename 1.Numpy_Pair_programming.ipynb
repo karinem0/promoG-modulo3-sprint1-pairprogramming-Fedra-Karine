{
 "cells": [
  {
   "cell_type": "code",
   "execution_count": 1,
   "metadata": {},
   "outputs": [],
   "source": [
    "#Importamos librería Numpy \n",
    "import numpy as np"
   ]
  },
  {
   "cell_type": "markdown",
   "metadata": {},
   "source": [
    "# Creación y Indexación:\n",
    "\n",
    "1. Crea un array 1D con 50 valores aleatorio del 10 al 99. Accede a los elementos en las\n",
    "posiciones múltiplos de 5.\n"
   ]
  },
  {
   "cell_type": "code",
   "execution_count": 4,
   "metadata": {},
   "outputs": [
    {
     "data": {
      "text/plain": [
       "array([94, 19, 96, 76, 59, 47, 35, 94, 60, 28, 33, 35, 59, 77, 41, 34, 40,\n",
       "       45, 11, 31, 30, 22, 24, 89, 22, 79, 86, 61, 37, 24, 98, 90, 86, 21,\n",
       "       99, 35, 51, 40, 98, 44, 96, 32, 94, 70, 59, 70, 70, 96, 65, 90])"
      ]
     },
     "execution_count": 4,
     "metadata": {},
     "output_type": "execute_result"
    }
   ],
   "source": [
    "array1 = np.random.randint(10, 100, (50))\n",
    "array1"
   ]
  },
  {
   "cell_type": "code",
   "execution_count": 5,
   "metadata": {},
   "outputs": [
    {
     "data": {
      "text/plain": [
       "array([35, 60, 35, 40, 45, 30, 90, 35, 40, 70, 70, 70, 65, 90])"
      ]
     },
     "execution_count": 5,
     "metadata": {},
     "output_type": "execute_result"
    }
   ],
   "source": [
    "#Podemos hacerlo con np.where o directamente. La diferencia entre ambos es que np.where nos dará las posiciones de los elementos\n",
    "# De la otra forma solo nos dará los elementos directamente. \n",
    "\n",
    "array1[(array1 % 5 == 0)]"
   ]
  },
  {
   "cell_type": "code",
   "execution_count": 6,
   "metadata": {},
   "outputs": [
    {
     "name": "stdout",
     "output_type": "stream",
     "text": [
      "[ 6  8 11 16 17 20 31 35 37 43 45 46 48 49]\n"
     ]
    },
    {
     "data": {
      "text/plain": [
       "array([35, 60, 35, 40, 45, 30, 90, 35, 40, 70, 70, 70, 65, 90])"
      ]
     },
     "execution_count": 6,
     "metadata": {},
     "output_type": "execute_result"
    }
   ],
   "source": [
    "posiciones_indice = np.where(array1 % 5 == 0)[0]\n",
    "print(posiciones_indice)\n",
    "array1[posiciones_indice]"
   ]
  },
  {
   "cell_type": "markdown",
   "metadata": {},
   "source": [
    "2. Crea un array 1D con 30 valores del 1 al 20 (ambos incluidos). Utiliza indexación para\n",
    "obtener los elementos en las posiciones impares.\n"
   ]
  },
  {
   "cell_type": "code",
   "execution_count": 9,
   "metadata": {},
   "outputs": [
    {
     "data": {
      "text/plain": [
       "array([14,  2,  6, 12,  3,  8,  1,  7, 11,  7, 12, 16, 12, 15,  8, 15, 15,\n",
       "        1,  9,  4, 12, 12,  1,  7, 18, 13, 19, 20,  6,  4])"
      ]
     },
     "execution_count": 9,
     "metadata": {},
     "output_type": "execute_result"
    }
   ],
   "source": [
    "array2 = np.random.randint(1, 21, (30))\n",
    "array2"
   ]
  },
  {
   "cell_type": "code",
   "execution_count": 11,
   "metadata": {},
   "outputs": [
    {
     "data": {
      "text/plain": [
       "array([ 2, 12,  8,  7,  7, 16, 15, 15,  1,  4, 12,  7, 13, 20,  4])"
      ]
     },
     "execution_count": 11,
     "metadata": {},
     "output_type": "execute_result"
    }
   ],
   "source": [
    "# Accedemos a elementos en POSICIONES IMPARES accediendo a la posición 1 que es impar y seleccionamos todo :: con saltos (steps) de dos en dos. \n",
    "\n",
    "array2[1::2]"
   ]
  },
  {
   "cell_type": "markdown",
   "metadata": {},
   "source": [
    "\n",
    "3. Crea un array 2D de forma (4, 6) con números aleatorios decimales (no deben estar\n",
    "comprendidos solo entre 0 y 1). Accede a la última fila de la matriz. Los decimales deben\n",
    "estar redondeados a 2 decimales.\n"
   ]
  },
  {
   "cell_type": "code",
   "execution_count": 33,
   "metadata": {},
   "outputs": [
    {
     "data": {
      "text/plain": [
       "array([[1.83, 1.9 , 1.33, 1.43, 1.98, 1.8 ],\n",
       "       [1.17, 1.88, 1.28, 1.99, 1.77, 1.87],\n",
       "       [1.88, 1.28, 1.33, 1.86, 1.64, 1.15],\n",
       "       [1.2 , 1.63, 1.61, 1.37, 1.47, 1.64]])"
      ]
     },
     "execution_count": 33,
     "metadata": {},
     "output_type": "execute_result"
    }
   ],
   "source": [
    "array_2d = np.random.sample(( 4, 6)).round(2)+1  #el +1 se suma a todos los elementos del array \n",
    "array_2d"
   ]
  },
  {
   "cell_type": "code",
   "execution_count": 28,
   "metadata": {},
   "outputs": [
    {
     "data": {
      "text/plain": [
       "array([1.2 , 1.05, 1.79, 1.36, 1.86, 1.68])"
      ]
     },
     "execution_count": 28,
     "metadata": {},
     "output_type": "execute_result"
    }
   ],
   "source": [
    "# Accedemos a la última fila de la matriz \n",
    "array_2d[-1]\n"
   ]
  },
  {
   "cell_type": "code",
   "execution_count": 30,
   "metadata": {},
   "outputs": [
    {
     "data": {
      "text/plain": [
       "array([1.57, 1.27, 1.1 , 1.68])"
      ]
     },
     "execution_count": 30,
     "metadata": {},
     "output_type": "execute_result"
    }
   ],
   "source": [
    "# Si quisiéramos acceder a la última columna haríamos\n",
    "# Seleccionamos todas las filas y última columna (-1)\n",
    "array_2d[:, -1]"
   ]
  },
  {
   "cell_type": "markdown",
   "metadata": {},
   "source": [
    "\n",
    "4. Crea un array NumPy 2D de forma (6, 4) con valores decimales entre 0 y 1. Accede a la\n",
    "segunda columna de la matriz. Los números deben estar redondeados a 2 decimales.\n"
   ]
  },
  {
   "cell_type": "code",
   "execution_count": 35,
   "metadata": {},
   "outputs": [
    {
     "data": {
      "text/plain": [
       "array([[0.9 , 0.14, 0.51, 0.05],\n",
       "       [0.3 , 0.06, 0.31, 0.55],\n",
       "       [0.39, 0.8 , 0.4 , 0.34],\n",
       "       [0.98, 0.6 , 0.56, 0.7 ],\n",
       "       [0.94, 0.22, 0.1 , 0.2 ],\n",
       "       [0.9 , 0.69, 0.52, 0.34]])"
      ]
     },
     "execution_count": 35,
     "metadata": {},
     "output_type": "execute_result"
    }
   ],
   "source": [
    "array_2d_2 = np.random.rand(6,4).round(2)\n",
    "array_2d_2"
   ]
  },
  {
   "cell_type": "code",
   "execution_count": 37,
   "metadata": {},
   "outputs": [
    {
     "data": {
      "text/plain": [
       "array([0.14, 0.06, 0.8 , 0.6 , 0.22, 0.69])"
      ]
     },
     "execution_count": 37,
     "metadata": {},
     "output_type": "execute_result"
    }
   ],
   "source": [
    "# Accedemos a la segunda columna de la matriz, cuya posición es 1.\n",
    "# Seleccionamos todas las filas y accedemos a la segunda columna \n",
    "array_2d_2[:, 1]"
   ]
  },
  {
   "cell_type": "markdown",
   "metadata": {},
   "source": [
    "\n",
    "5. Crea un array 1D con 30 valores enteros aleatorios entre -50 y 50. Extrae los valores\n",
    "negativos.\n"
   ]
  },
  {
   "cell_type": "code",
   "execution_count": 33,
   "metadata": {},
   "outputs": [
    {
     "data": {
      "text/plain": [
       "array([-22,  22,  37,  42,  46, -49,  15, -41, -25,  -9, -16, -26,  12,\n",
       "       -13,  29,  10,  47,  18,  36, -45,  19, -39, -40,   9, -22,  49,\n",
       "         1, -18, -16,  -8])"
      ]
     },
     "execution_count": 33,
     "metadata": {},
     "output_type": "execute_result"
    }
   ],
   "source": [
    "array_1d_1 = np.random.randint(-50, 50,(30))\n",
    "array_1d_1"
   ]
  },
  {
   "cell_type": "code",
   "execution_count": 34,
   "metadata": {},
   "outputs": [
    {
     "data": {
      "text/plain": [
       "array([-22, -49, -41, -25,  -9, -16, -26, -13, -45, -39, -40, -22, -18,\n",
       "       -16,  -8])"
      ]
     },
     "execution_count": 34,
     "metadata": {},
     "output_type": "execute_result"
    }
   ],
   "source": [
    "#Una forma de hacerlo mas sencilla que con np.where(): \n",
    "array_1d_1[(array_1d_1 < 0)]"
   ]
  },
  {
   "cell_type": "code",
   "execution_count": 35,
   "metadata": {},
   "outputs": [
    {
     "data": {
      "text/plain": [
       "array([-42, -19, -42, -28, -34, -26, -32, -28, -18, -41, -22, -23,  -1,\n",
       "       -38,  -6, -43,  -7])"
      ]
     },
     "execution_count": 35,
     "metadata": {},
     "output_type": "execute_result"
    }
   ],
   "source": [
    "# Método usando np.where()\n",
    "posicion_negativos = np.where(array_1d_1 < 0)\n",
    "array_1d_1[posicion_negativos]"
   ]
  },
  {
   "cell_type": "markdown",
   "metadata": {},
   "source": [
    "\n",
    "6. Crea un array 1D con 10 valores entre 0 y 1. Redondea los decimales a 2. Obtén los\n",
    "elementos cuyo valor es mayor que 0.5. ¿En que posición/es están esos elementos?\n"
   ]
  },
  {
   "cell_type": "code",
   "execution_count": 36,
   "metadata": {},
   "outputs": [
    {
     "data": {
      "text/plain": [
       "array([0.1 , 0.98, 0.97, 0.93, 0.08, 0.33, 0.33, 0.87, 0.49, 0.47])"
      ]
     },
     "execution_count": 36,
     "metadata": {},
     "output_type": "execute_result"
    }
   ],
   "source": [
    "array3 = np.random.rand(10).round(2)\n",
    "array3"
   ]
  },
  {
   "cell_type": "code",
   "execution_count": 20,
   "metadata": {},
   "outputs": [
    {
     "data": {
      "text/plain": [
       "array([0.73, 0.97, 0.55, 0.88, 0.6 ])"
      ]
     },
     "execution_count": 20,
     "metadata": {},
     "output_type": "execute_result"
    }
   ],
   "source": [
    "# Podemos hacer la condición de dos formas.\n",
    "# primera opcion \n",
    "array3[(array3 > 0.5)]"
   ]
  },
  {
   "cell_type": "code",
   "execution_count": 38,
   "metadata": {},
   "outputs": [
    {
     "name": "stdout",
     "output_type": "stream",
     "text": [
      " Esta son las posiciones de los elementos que cumplen la condición: (array([1, 2, 3, 7], dtype=int64),)\n"
     ]
    },
    {
     "data": {
      "text/plain": [
       "array([0.98, 0.97, 0.93, 0.87])"
      ]
     },
     "execution_count": 38,
     "metadata": {},
     "output_type": "execute_result"
    }
   ],
   "source": [
    "# segunda opcion con np.where \n",
    "posicion = np.where(array3 > 0.5)\n",
    "#Posiciones de los elementos\n",
    "print(f' Esta son las posiciones de los elementos que cumplen la condición: {posicion}') \n",
    "array3[posicion]"
   ]
  },
  {
   "cell_type": "markdown",
   "metadata": {},
   "source": [
    "\n",
    "7. Crea un array 1D con 40 valores del 1 al 100 (ambos incluidos). Obtén los elementos que\n",
    "son divisibles por 3 y por 4.\n"
   ]
  },
  {
   "cell_type": "code",
   "execution_count": 39,
   "metadata": {},
   "outputs": [
    {
     "data": {
      "text/plain": [
       "array([ 90, 100,  53,  47, 100,  54,  30,  53,  45,  28,   6,  31,  93,\n",
       "        12,   1,  54,  57,  44,  22,   2,  73,  39,  93,  63,  88,  93,\n",
       "        39,  39,   6,  63,  44,  82,  72,  92,  31,  89,  56,  66,  50,\n",
       "        55])"
      ]
     },
     "execution_count": 39,
     "metadata": {},
     "output_type": "execute_result"
    }
   ],
   "source": [
    "array4 = np.random.randint(1,101,(40))\n",
    "array4"
   ]
  },
  {
   "cell_type": "code",
   "execution_count": 41,
   "metadata": {},
   "outputs": [
    {
     "data": {
      "text/plain": [
       "array([12, 72])"
      ]
     },
     "execution_count": 41,
     "metadata": {},
     "output_type": "execute_result"
    }
   ],
   "source": [
    "# Especificamos dos condiciones que debe cumplir con & (and):\n",
    "array4[(array4 % 3 == 0) & (array4 % 4 == 0)] "
   ]
  },
  {
   "cell_type": "markdown",
   "metadata": {},
   "source": [
    "\n",
    "8. BONUS: Crea un array 3D de forma (2, 3, 5) con números enteros entre 0\n",
    "y 100 (ambos incluidos). Reemplaza los elementos en posiciones múltiplos de 3 por 0.\n"
   ]
  },
  {
   "cell_type": "code",
   "execution_count": 42,
   "metadata": {},
   "outputs": [
    {
     "data": {
      "text/plain": [
       "array([[[96, 80, 64, 62, 28],\n",
       "        [76, 67, 67, 74, 56],\n",
       "        [43, 77, 69, 27, 66]],\n",
       "\n",
       "       [[49, 64, 55, 64, 39],\n",
       "        [73, 56, 39, 88, 80],\n",
       "        [43, 28, 40, 33, 32]]])"
      ]
     },
     "execution_count": 42,
     "metadata": {},
     "output_type": "execute_result"
    }
   ],
   "source": [
    "array5 = np.random.randint(0, 101,(2, 3,5))\n",
    "array5\n",
    "# Creamos array de 3D con forma (2,3,5)"
   ]
  },
  {
   "cell_type": "code",
   "execution_count": 43,
   "metadata": {},
   "outputs": [
    {
     "data": {
      "text/plain": [
       "array([[[ 0, 80, 64, 62, 28],\n",
       "        [76, 67, 67, 74, 56],\n",
       "        [43, 77,  0,  0,  0]],\n",
       "\n",
       "       [[49, 64, 55, 64,  0],\n",
       "        [73, 56,  0, 88, 80],\n",
       "        [43, 28, 40,  0, 32]]])"
      ]
     },
     "execution_count": 43,
     "metadata": {},
     "output_type": "execute_result"
    }
   ],
   "source": [
    "# Reemplazamos los elementos multiplos de 3 \n",
    "array5[(array5 % 3 == 0)] = 0 \n",
    "array5"
   ]
  },
  {
   "cell_type": "markdown",
   "metadata": {},
   "source": [
    "\n",
    "## Reshape y Transpose:\n",
    "### Ejercicios con reshape:\n",
    "1. Crea un array 3D de forma (2, 3, 4) con valores aleatorios entre 1 y 100 (ambos inclusive).\n",
    "Utiliza reshape para convertirlo en un array 2D. Deberás pensar en la forma que es\n",
    "correcta para hacer este cambio.\n"
   ]
  },
  {
   "cell_type": "code",
   "execution_count": 19,
   "metadata": {},
   "outputs": [
    {
     "data": {
      "text/plain": [
       "array([[[76, 57, 31, 58],\n",
       "        [16, 51, 32, 84],\n",
       "        [15, 55, 94, 82]],\n",
       "\n",
       "       [[59, 77, 81, 32],\n",
       "        [97, 38, 51, 80],\n",
       "        [98, 76, 96,  8]]])"
      ]
     },
     "execution_count": 19,
     "metadata": {},
     "output_type": "execute_result"
    }
   ],
   "source": [
    "array6 = np.random.randint(1, 101, (2,3,4))\n",
    "array6"
   ]
  },
  {
   "cell_type": "code",
   "execution_count": 20,
   "metadata": {},
   "outputs": [
    {
     "data": {
      "text/plain": [
       "array([[76, 57, 31, 58, 16, 51, 32, 84, 15, 55, 94, 82],\n",
       "       [59, 77, 81, 32, 97, 38, 51, 80, 98, 76, 96,  8]])"
      ]
     },
     "execution_count": 20,
     "metadata": {},
     "output_type": "execute_result"
    }
   ],
   "source": [
    "array_nuevo = array6.reshape(2,-1)\n",
    "array_nuevo"
   ]
  },
  {
   "cell_type": "markdown",
   "metadata": {},
   "source": [
    "\n",
    "2. Crea un array 3D de forma (3, 4, 5) con valores enteros del 1 al 60 (sin incluir). Utiliza\n",
    "reshape para convertirlo en un array 2D.\n"
   ]
  },
  {
   "cell_type": "code",
   "execution_count": 10,
   "metadata": {},
   "outputs": [
    {
     "data": {
      "text/plain": [
       "array([[[56,  7, 18, 29,  7],\n",
       "        [45, 58, 57, 25,  2],\n",
       "        [45,  2, 24, 25, 14],\n",
       "        [ 9,  2, 36, 32, 53]],\n",
       "\n",
       "       [[50, 18,  1, 15, 56],\n",
       "        [53, 15, 32,  9, 53],\n",
       "        [41, 36, 26, 44, 22],\n",
       "        [39, 27, 35, 23,  7]],\n",
       "\n",
       "       [[45, 15,  8,  2, 12],\n",
       "        [42, 42,  7, 13, 11],\n",
       "        [33, 30, 24, 25, 50],\n",
       "        [49,  7,  1,  7, 12]]])"
      ]
     },
     "execution_count": 10,
     "metadata": {},
     "output_type": "execute_result"
    }
   ],
   "source": [
    "array7 = np.random.randint(1, 60, (3,4,5))\n",
    "array7"
   ]
  },
  {
   "cell_type": "code",
   "execution_count": 11,
   "metadata": {},
   "outputs": [
    {
     "data": {
      "text/plain": [
       "array([[56,  7, 18, 29,  7, 45, 58, 57, 25,  2, 45,  2, 24, 25, 14,  9,\n",
       "         2, 36, 32, 53, 50, 18,  1, 15, 56, 53, 15, 32,  9, 53],\n",
       "       [41, 36, 26, 44, 22, 39, 27, 35, 23,  7, 45, 15,  8,  2, 12, 42,\n",
       "        42,  7, 13, 11, 33, 30, 24, 25, 50, 49,  7,  1,  7, 12]])"
      ]
     },
     "execution_count": 11,
     "metadata": {},
     "output_type": "execute_result"
    }
   ],
   "source": [
    "array_reshape = array7.reshape(2, -1) # Convertimos el array con reshape() a dos dimensiones y cogemos todo, hasta el último elemento (-1). \n",
    "array_reshape"
   ]
  },
  {
   "cell_type": "markdown",
   "metadata": {},
   "source": [
    "\n",
    "3. Crea un array 3D de forma (4, 3, 2) con valores aleatorios entre 0 y 1. Utiliza reshape para\n",
    "convertirlo en un array 2D.\n"
   ]
  },
  {
   "cell_type": "code",
   "execution_count": 2,
   "metadata": {},
   "outputs": [
    {
     "data": {
      "text/plain": [
       "array([[[0.051351  , 0.98696563],\n",
       "        [0.05019352, 0.36141805],\n",
       "        [0.21649832, 0.488404  ]],\n",
       "\n",
       "       [[0.30819003, 0.01711355],\n",
       "        [0.66927382, 0.97422758],\n",
       "        [0.03600303, 0.95608899]],\n",
       "\n",
       "       [[0.06603821, 0.47292867],\n",
       "        [0.72169637, 0.1621065 ],\n",
       "        [0.99387851, 0.64679467]],\n",
       "\n",
       "       [[0.96826312, 0.52004953],\n",
       "        [0.79933004, 0.35737151],\n",
       "        [0.64409155, 0.29894428]]])"
      ]
     },
     "execution_count": 2,
     "metadata": {},
     "output_type": "execute_result"
    }
   ],
   "source": [
    "array_3D = np.random.rand(4,3,2)\n",
    "array_3D"
   ]
  },
  {
   "cell_type": "code",
   "execution_count": 3,
   "metadata": {},
   "outputs": [
    {
     "data": {
      "text/plain": [
       "array([[0.051351  , 0.98696563, 0.05019352, 0.36141805, 0.21649832,\n",
       "        0.488404  , 0.30819003, 0.01711355, 0.66927382, 0.97422758,\n",
       "        0.03600303, 0.95608899],\n",
       "       [0.06603821, 0.47292867, 0.72169637, 0.1621065 , 0.99387851,\n",
       "        0.64679467, 0.96826312, 0.52004953, 0.79933004, 0.35737151,\n",
       "        0.64409155, 0.29894428]])"
      ]
     },
     "execution_count": 3,
     "metadata": {},
     "output_type": "execute_result"
    }
   ],
   "source": [
    "nuevo_array_3D = array_3D.reshape(2, -1)\n",
    "nuevo_array_3D"
   ]
  },
  {
   "cell_type": "markdown",
   "metadata": {},
   "source": [
    "\n",
    "### Ejercicios con transpose:\n",
    "4. Utiliza el array 3D del ejercicio 2 de reshape. Utiliza transpose para permutar los ejes y\n",
    "obtener un nuevo array con forma (5, 4, 3).\n"
   ]
  },
  {
   "cell_type": "code",
   "execution_count": 21,
   "metadata": {},
   "outputs": [
    {
     "data": {
      "text/plain": [
       "array([[56,  7, 18, 29,  7, 45, 58, 57, 25,  2, 45,  2, 24, 25, 14,  9,\n",
       "         2, 36, 32, 53, 50, 18,  1, 15, 56, 53, 15, 32,  9, 53],\n",
       "       [41, 36, 26, 44, 22, 39, 27, 35, 23,  7, 45, 15,  8,  2, 12, 42,\n",
       "        42,  7, 13, 11, 33, 30, 24, 25, 50, 49,  7,  1,  7, 12]])"
      ]
     },
     "execution_count": 21,
     "metadata": {},
     "output_type": "execute_result"
    }
   ],
   "source": [
    "array_reshape   \n"
   ]
  },
  {
   "cell_type": "code",
   "execution_count": 30,
   "metadata": {},
   "outputs": [
    {
     "data": {
      "text/plain": [
       "array([[[56,  7, 18],\n",
       "        [29,  7, 45],\n",
       "        [58, 57, 25],\n",
       "        [ 2, 45,  2]],\n",
       "\n",
       "       [[24, 25, 14],\n",
       "        [ 9,  2, 36],\n",
       "        [32, 53, 50],\n",
       "        [18,  1, 15]],\n",
       "\n",
       "       [[56, 53, 15],\n",
       "        [32,  9, 53],\n",
       "        [41, 36, 26],\n",
       "        [44, 22, 39]],\n",
       "\n",
       "       [[27, 35, 23],\n",
       "        [ 7, 45, 15],\n",
       "        [ 8,  2, 12],\n",
       "        [42, 42,  7]],\n",
       "\n",
       "       [[13, 11, 33],\n",
       "        [30, 24, 25],\n",
       "        [50, 49,  7],\n",
       "        [ 1,  7, 12]]])"
      ]
     },
     "execution_count": 30,
     "metadata": {},
     "output_type": "execute_result"
    }
   ],
   "source": [
    "array_nuevo = array_reshape.reshape(5,4,3)\n",
    "array_nuevo"
   ]
  },
  {
   "cell_type": "code",
   "execution_count": 33,
   "metadata": {},
   "outputs": [
    {
     "data": {
      "text/plain": [
       "array([[[56,  7, 18],\n",
       "        [29,  7, 45],\n",
       "        [58, 57, 25],\n",
       "        [ 2, 45,  2]],\n",
       "\n",
       "       [[24, 25, 14],\n",
       "        [ 9,  2, 36],\n",
       "        [32, 53, 50],\n",
       "        [18,  1, 15]],\n",
       "\n",
       "       [[56, 53, 15],\n",
       "        [32,  9, 53],\n",
       "        [41, 36, 26],\n",
       "        [44, 22, 39]],\n",
       "\n",
       "       [[27, 35, 23],\n",
       "        [ 7, 45, 15],\n",
       "        [ 8,  2, 12],\n",
       "        [42, 42,  7]],\n",
       "\n",
       "       [[13, 11, 33],\n",
       "        [30, 24, 25],\n",
       "        [50, 49,  7],\n",
       "        [ 1,  7, 12]]])"
      ]
     },
     "execution_count": 33,
     "metadata": {},
     "output_type": "execute_result"
    }
   ],
   "source": [
    "\n",
    "array_transpose = np.transpose(array_nuevo,(0,1,2))\n",
    "array_transpose"
   ]
  },
  {
   "cell_type": "markdown",
   "metadata": {},
   "source": [
    "\n",
    "5. Utiliza el array 3D del ejercicio 3 de reshape. Utiliza transpose para cambiar el orden de \n",
    "los ejes y obtener un nuevo array con forma (3, 2, 4).\n"
   ]
  },
  {
   "cell_type": "code",
   "execution_count": 34,
   "metadata": {},
   "outputs": [
    {
     "data": {
      "text/plain": [
       "array([[0.051351  , 0.98696563, 0.05019352, 0.36141805, 0.21649832,\n",
       "        0.488404  , 0.30819003, 0.01711355, 0.66927382, 0.97422758,\n",
       "        0.03600303, 0.95608899],\n",
       "       [0.06603821, 0.47292867, 0.72169637, 0.1621065 , 0.99387851,\n",
       "        0.64679467, 0.96826312, 0.52004953, 0.79933004, 0.35737151,\n",
       "        0.64409155, 0.29894428]])"
      ]
     },
     "execution_count": 34,
     "metadata": {},
     "output_type": "execute_result"
    }
   ],
   "source": [
    "nuevo_array_3D"
   ]
  },
  {
   "cell_type": "code",
   "execution_count": 36,
   "metadata": {},
   "outputs": [
    {
     "data": {
      "text/plain": [
       "array([[[0.051351  , 0.98696563, 0.05019352, 0.36141805],\n",
       "        [0.21649832, 0.488404  , 0.30819003, 0.01711355]],\n",
       "\n",
       "       [[0.66927382, 0.97422758, 0.03600303, 0.95608899],\n",
       "        [0.06603821, 0.47292867, 0.72169637, 0.1621065 ]],\n",
       "\n",
       "       [[0.99387851, 0.64679467, 0.96826312, 0.52004953],\n",
       "        [0.79933004, 0.35737151, 0.64409155, 0.29894428]]])"
      ]
     },
     "execution_count": 36,
     "metadata": {},
     "output_type": "execute_result"
    }
   ],
   "source": [
    "nuevo_array3d = nuevo_array_3D.reshape(3,2,4)\n",
    "nuevo_array3d"
   ]
  },
  {
   "cell_type": "code",
   "execution_count": 37,
   "metadata": {},
   "outputs": [
    {
     "data": {
      "text/plain": [
       "array([[[0.051351  , 0.98696563, 0.05019352, 0.36141805],\n",
       "        [0.21649832, 0.488404  , 0.30819003, 0.01711355]],\n",
       "\n",
       "       [[0.66927382, 0.97422758, 0.03600303, 0.95608899],\n",
       "        [0.06603821, 0.47292867, 0.72169637, 0.1621065 ]],\n",
       "\n",
       "       [[0.99387851, 0.64679467, 0.96826312, 0.52004953],\n",
       "        [0.79933004, 0.35737151, 0.64409155, 0.29894428]]])"
      ]
     },
     "execution_count": 37,
     "metadata": {},
     "output_type": "execute_result"
    }
   ],
   "source": [
    "transpose1 = np.transpose(nuevo_array3d, (0,1,2))\n",
    "transpose1"
   ]
  },
  {
   "cell_type": "markdown",
   "metadata": {},
   "source": [
    "\n",
    "## Preguntas teóricas:\n",
    "\n",
    "6. ¿Qué diferencia existe entre el reshape y el transpose?\n",
    "\n",
    "- La función reshape se utiliza para cambiar la forma de una matriz sin cambiar los datos que contiene. \n",
    "    Permite reorganizar los elementos de una matriz en una nueva forma especificada por el usuario, siempre y cuando el número total de elementos sea el mismo que el original.\n",
    "\n",
    "- La función transpose se utiliza para intercambiar filas y columnas de una matriz.\n",
    "    Cambia la disposición de los elementos en términos de dimensiones, es decir, rota la matriz.\n",
    "\n",
    "RESHAPE reorganiza los elementos de una matriz en una nueva forma sin cambiar su disposición, TRANSPOSE intercambia filas y columnas, cambiando la disposición de la matriz."
   ]
  },
  {
   "cell_type": "markdown",
   "metadata": {},
   "source": [
    "\n",
    "7. ¿Y entre el transpose y el swapaxes?\n",
    "\n",
    "TRANSPOSE es más general y puede permutar todas las dimensiones de una matriz, usada para intercambiar filas y columnas en matrices bidimensionales.\n",
    "SWAPAXES es más específico y se utiliza únicamente para intercambiar dos ejes específicos. La elección entre una u otra depende de los requisitos específicos de manipulación de dimensiones en su aplicación."
   ]
  },
  {
   "cell_type": "markdown",
   "metadata": {},
   "source": [
    "\n",
    "## Funciones Aritméticas y Estadísticas:\n",
    "1. Crea un array de tres 3D con elementos entre el 0 y 1 de forma (2, 3, 5) cuyos valores solo\n",
    "tengan 1 decimal.\n"
   ]
  },
  {
   "cell_type": "code",
   "execution_count": 5,
   "metadata": {},
   "outputs": [
    {
     "data": {
      "text/plain": [
       "array([[[0.5, 0.3, 0.5, 0.7, 0.5],\n",
       "        [0.2, 0.7, 0.4, 0.7, 0.7],\n",
       "        [0.6, 1. , 0.4, 0.1, 0.8]],\n",
       "\n",
       "       [[0.1, 0.8, 0.2, 0.2, 0.5],\n",
       "        [0.4, 0.8, 0.3, 0.9, 0.8],\n",
       "        [0.4, 0.9, 0.3, 0.1, 0.5]]])"
      ]
     },
     "execution_count": 5,
     "metadata": {},
     "output_type": "execute_result"
    }
   ],
   "source": [
    "array_7 = np.random.rand(2,3,5).round(1)\n",
    "array_7"
   ]
  },
  {
   "cell_type": "markdown",
   "metadata": {},
   "source": [
    "\n",
    "2. Crea un array vacío con la misma forma y dimensiones que el array creado anteriormente.\n",
    "Vamos a reemplazar los valores de la matriz vacía que nos acabamos de crear pero\n",
    "basándonos en los valores del primer array bajo las siguientes condiciones:\n",
    "Si el valor del array es igual que la media, se reemplaza por \"A\".\n",
    "Si el valor del array es mayor que la media, se reemplaza por \"B\".\n",
    "Si el valor del array es menor que la media, se reemplaza por \"C\".\n",
    "Si el valor es igual que el máximo, se reemplaza por \"D\".\n",
    "Si el valor es igual que el mínimo, se reemplaza por \"E\""
   ]
  },
  {
   "cell_type": "code",
   "execution_count": 7,
   "metadata": {},
   "outputs": [
    {
     "data": {
      "text/plain": [
       "array([[[0.5, 0.3, 0.5, 0.7, 0.5],\n",
       "        [0.2, 0.7, 0.4, 0.7, 0.7],\n",
       "        [0.6, 1. , 0.4, 0.1, 0.8]],\n",
       "\n",
       "       [[0.1, 0.8, 0.2, 0.2, 0.5],\n",
       "        [0.4, 0.8, 0.3, 0.9, 0.8],\n",
       "        [0.4, 0.9, 0.3, 0.1, 0.5]]])"
      ]
     },
     "execution_count": 7,
     "metadata": {},
     "output_type": "execute_result"
    }
   ],
   "source": [
    "array_vacio = np.empty((2,3,5))\n",
    "array_vacio"
   ]
  }
 ],
 "metadata": {
  "kernelspec": {
   "display_name": "Python 3",
   "language": "python",
   "name": "python3"
  },
  "language_info": {
   "codemirror_mode": {
    "name": "ipython",
    "version": 3
   },
   "file_extension": ".py",
   "mimetype": "text/x-python",
   "name": "python",
   "nbconvert_exporter": "python",
   "pygments_lexer": "ipython3",
   "version": "3.9.13"
  }
 },
 "nbformat": 4,
 "nbformat_minor": 2
}
