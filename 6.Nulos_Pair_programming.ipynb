{
 "cells": [
  {
   "cell_type": "code",
   "execution_count": 1,
   "metadata": {},
   "outputs": [
    {
     "name": "stderr",
     "output_type": "stream",
     "text": [
      "C:\\Users\\karin\\AppData\\Local\\Temp\\ipykernel_12844\\1499216972.py:5: DeprecationWarning: \n",
      "Pyarrow will become a required dependency of pandas in the next major release of pandas (pandas 3.0),\n",
      "(to allow more performant data types, such as the Arrow string type, and better interoperability with other libraries)\n",
      "but was not found to be installed on your system.\n",
      "If this would cause problems for you,\n",
      "please provide us feedback at https://github.com/pandas-dev/pandas/issues/54466\n",
      "        \n",
      "  import pandas as pd\n"
     ]
    }
   ],
   "source": [
    "# importamos las librerías que necesitamos\n",
    "\n",
    "# Tratamiento de datos\n",
    "# -----------------------------------------------------------------------\n",
    "import pandas as pd\n",
    "import numpy as np\n",
    "\n",
    "# Imputación de nulos usando métodos avanzados estadísticos\n",
    "# -----------------------------------------------------------------------\n",
    "from sklearn.impute import SimpleImputer\n",
    "from sklearn.experimental import enable_iterative_imputer\n",
    "from sklearn.impute import IterativeImputer\n",
    "from sklearn.impute import KNNImputer\n",
    "\n",
    "# Librerías de visualización\n",
    "# -----------------------------------------------------------------------\n",
    "import seaborn as sns\n",
    "import matplotlib.pyplot as plt\n",
    "# Configuración"
   ]
  },
  {
   "cell_type": "markdown",
   "metadata": {},
   "source": [
    "# Pair programming Nulos\n",
    "\n",
    "## Ejercicios gestión de nulos\n",
    "\n",
    "En este pair programming usaremos el csv que generamos en el pair programming de ayer. El objetivo del ejercicio es identificar las columnas que contienen valores nulos y aplicar un proceso de imputación para manejarlos de manera adecuada.\n",
    "\n",
    "Instrucciones:\n",
    "\n",
    "1. Identificación de Valores Nulos: Identifica todas las columnas que contengan valores nulos en el DataFrame.\n"
   ]
  },
  {
   "cell_type": "code",
   "execution_count": 2,
   "metadata": {},
   "outputs": [
    {
     "data": {
      "text/html": [
       "<div>\n",
       "<style scoped>\n",
       "    .dataframe tbody tr th:only-of-type {\n",
       "        vertical-align: middle;\n",
       "    }\n",
       "\n",
       "    .dataframe tbody tr th {\n",
       "        vertical-align: top;\n",
       "    }\n",
       "\n",
       "    .dataframe thead th {\n",
       "        text-align: right;\n",
       "    }\n",
       "</style>\n",
       "<table border=\"1\" class=\"dataframe\">\n",
       "  <thead>\n",
       "    <tr style=\"text-align: right;\">\n",
       "      <th></th>\n",
       "      <th>country</th>\n",
       "      <th>density</th>\n",
       "      <th>abbreviation</th>\n",
       "      <th>agriculturalland</th>\n",
       "      <th>landarea</th>\n",
       "      <th>armedforcessize</th>\n",
       "      <th>birthrate</th>\n",
       "      <th>callingcode</th>\n",
       "      <th>capital/majorcity</th>\n",
       "      <th>co2-emissions</th>\n",
       "      <th>...</th>\n",
       "      <th>physiciansperthousand</th>\n",
       "      <th>population</th>\n",
       "      <th>population:laborforceparticipation</th>\n",
       "      <th>taxrevenue</th>\n",
       "      <th>totaltaxrate</th>\n",
       "      <th>unemploymentrate</th>\n",
       "      <th>urban_population</th>\n",
       "      <th>latitud</th>\n",
       "      <th>longitud</th>\n",
       "      <th>continent</th>\n",
       "    </tr>\n",
       "  </thead>\n",
       "  <tbody>\n",
       "    <tr>\n",
       "      <th>0</th>\n",
       "      <td>Afghanistan</td>\n",
       "      <td>60.0</td>\n",
       "      <td>AF</td>\n",
       "      <td>58.1</td>\n",
       "      <td>652230.0</td>\n",
       "      <td>323000.0</td>\n",
       "      <td>32.49</td>\n",
       "      <td>93.0</td>\n",
       "      <td>Kabul</td>\n",
       "      <td>8672.0</td>\n",
       "      <td>...</td>\n",
       "      <td>0.28</td>\n",
       "      <td>38041754.0</td>\n",
       "      <td>48.9</td>\n",
       "      <td>9.3</td>\n",
       "      <td>71.4</td>\n",
       "      <td>11.12</td>\n",
       "      <td>9797273.0</td>\n",
       "      <td>33.939110</td>\n",
       "      <td>67.709953</td>\n",
       "      <td>Asia</td>\n",
       "    </tr>\n",
       "    <tr>\n",
       "      <th>1</th>\n",
       "      <td>Albania</td>\n",
       "      <td>105.0</td>\n",
       "      <td>AL</td>\n",
       "      <td>43.1</td>\n",
       "      <td>28748.0</td>\n",
       "      <td>9000.0</td>\n",
       "      <td>11.78</td>\n",
       "      <td>355.0</td>\n",
       "      <td>Tirana</td>\n",
       "      <td>4536.0</td>\n",
       "      <td>...</td>\n",
       "      <td>1.20</td>\n",
       "      <td>2854191.0</td>\n",
       "      <td>55.7</td>\n",
       "      <td>18.6</td>\n",
       "      <td>36.6</td>\n",
       "      <td>12.33</td>\n",
       "      <td>1747593.0</td>\n",
       "      <td>41.153332</td>\n",
       "      <td>20.168331</td>\n",
       "      <td>Europe</td>\n",
       "    </tr>\n",
       "    <tr>\n",
       "      <th>2</th>\n",
       "      <td>Algeria</td>\n",
       "      <td>18.0</td>\n",
       "      <td>DZ</td>\n",
       "      <td>17.4</td>\n",
       "      <td>2381741.0</td>\n",
       "      <td>317000.0</td>\n",
       "      <td>24.28</td>\n",
       "      <td>213.0</td>\n",
       "      <td>Algiers</td>\n",
       "      <td>150006.0</td>\n",
       "      <td>...</td>\n",
       "      <td>1.72</td>\n",
       "      <td>43053054.0</td>\n",
       "      <td>41.2</td>\n",
       "      <td>37.2</td>\n",
       "      <td>66.1</td>\n",
       "      <td>11.70</td>\n",
       "      <td>31510100.0</td>\n",
       "      <td>28.033886</td>\n",
       "      <td>1.659626</td>\n",
       "      <td>Africa</td>\n",
       "    </tr>\n",
       "    <tr>\n",
       "      <th>3</th>\n",
       "      <td>Andorra</td>\n",
       "      <td>164.0</td>\n",
       "      <td>AD</td>\n",
       "      <td>40.0</td>\n",
       "      <td>468.0</td>\n",
       "      <td>NaN</td>\n",
       "      <td>7.20</td>\n",
       "      <td>376.0</td>\n",
       "      <td>Andorra la Vella</td>\n",
       "      <td>469.0</td>\n",
       "      <td>...</td>\n",
       "      <td>3.33</td>\n",
       "      <td>77142.0</td>\n",
       "      <td>NaN</td>\n",
       "      <td>NaN</td>\n",
       "      <td>NaN</td>\n",
       "      <td>NaN</td>\n",
       "      <td>67873.0</td>\n",
       "      <td>42.506285</td>\n",
       "      <td>1.521801</td>\n",
       "      <td>Europe</td>\n",
       "    </tr>\n",
       "    <tr>\n",
       "      <th>4</th>\n",
       "      <td>Angola</td>\n",
       "      <td>26.0</td>\n",
       "      <td>AO</td>\n",
       "      <td>47.5</td>\n",
       "      <td>1246700.0</td>\n",
       "      <td>117000.0</td>\n",
       "      <td>40.73</td>\n",
       "      <td>244.0</td>\n",
       "      <td>Luanda</td>\n",
       "      <td>34693.0</td>\n",
       "      <td>...</td>\n",
       "      <td>0.21</td>\n",
       "      <td>31825295.0</td>\n",
       "      <td>77.5</td>\n",
       "      <td>9.2</td>\n",
       "      <td>49.1</td>\n",
       "      <td>6.89</td>\n",
       "      <td>21061025.0</td>\n",
       "      <td>-11.202692</td>\n",
       "      <td>17.873887</td>\n",
       "      <td>Africa</td>\n",
       "    </tr>\n",
       "  </tbody>\n",
       "</table>\n",
       "<p>5 rows × 36 columns</p>\n",
       "</div>"
      ],
      "text/plain": [
       "       country  density abbreviation  agriculturalland   landarea  \\\n",
       "0  Afghanistan     60.0           AF              58.1   652230.0   \n",
       "1      Albania    105.0           AL              43.1    28748.0   \n",
       "2      Algeria     18.0           DZ              17.4  2381741.0   \n",
       "3      Andorra    164.0           AD              40.0      468.0   \n",
       "4       Angola     26.0           AO              47.5  1246700.0   \n",
       "\n",
       "   armedforcessize  birthrate  callingcode capital/majorcity  co2-emissions  \\\n",
       "0         323000.0      32.49         93.0             Kabul         8672.0   \n",
       "1           9000.0      11.78        355.0            Tirana         4536.0   \n",
       "2         317000.0      24.28        213.0           Algiers       150006.0   \n",
       "3              NaN       7.20        376.0  Andorra la Vella          469.0   \n",
       "4         117000.0      40.73        244.0            Luanda        34693.0   \n",
       "\n",
       "   ...  physiciansperthousand  population population:laborforceparticipation  \\\n",
       "0  ...                   0.28  38041754.0                               48.9   \n",
       "1  ...                   1.20   2854191.0                               55.7   \n",
       "2  ...                   1.72  43053054.0                               41.2   \n",
       "3  ...                   3.33     77142.0                                NaN   \n",
       "4  ...                   0.21  31825295.0                               77.5   \n",
       "\n",
       "   taxrevenue  totaltaxrate  unemploymentrate  urban_population    latitud  \\\n",
       "0         9.3          71.4             11.12         9797273.0  33.939110   \n",
       "1        18.6          36.6             12.33         1747593.0  41.153332   \n",
       "2        37.2          66.1             11.70        31510100.0  28.033886   \n",
       "3         NaN           NaN               NaN           67873.0  42.506285   \n",
       "4         9.2          49.1              6.89        21061025.0 -11.202692   \n",
       "\n",
       "    longitud  continent  \n",
       "0  67.709953       Asia  \n",
       "1  20.168331     Europe  \n",
       "2   1.659626     Africa  \n",
       "3   1.521801     Europe  \n",
       "4  17.873887     Africa  \n",
       "\n",
       "[5 rows x 36 columns]"
      ]
     },
     "execution_count": 2,
     "metadata": {},
     "output_type": "execute_result"
    }
   ],
   "source": [
    "# Cargamos el dataframe creado en la lección anterior\n",
    "df = pd.read_csv(\"./df_world2.csv\" ,index_col = 0)\n",
    "df.head()"
   ]
  },
  {
   "cell_type": "code",
   "execution_count": 6,
   "metadata": {},
   "outputs": [
    {
     "data": {
      "text/html": [
       "<div>\n",
       "<style scoped>\n",
       "    .dataframe tbody tr th:only-of-type {\n",
       "        vertical-align: middle;\n",
       "    }\n",
       "\n",
       "    .dataframe tbody tr th {\n",
       "        vertical-align: top;\n",
       "    }\n",
       "\n",
       "    .dataframe thead th {\n",
       "        text-align: right;\n",
       "    }\n",
       "</style>\n",
       "<table border=\"1\" class=\"dataframe\">\n",
       "  <thead>\n",
       "    <tr style=\"text-align: right;\">\n",
       "      <th></th>\n",
       "      <th>%_nulos</th>\n",
       "    </tr>\n",
       "  </thead>\n",
       "  <tbody>\n",
       "    <tr>\n",
       "      <th>abbreviation</th>\n",
       "      <td>3.608247</td>\n",
       "    </tr>\n",
       "    <tr>\n",
       "      <th>agriculturalland</th>\n",
       "      <td>3.608247</td>\n",
       "    </tr>\n",
       "    <tr>\n",
       "      <th>landarea</th>\n",
       "      <td>0.515464</td>\n",
       "    </tr>\n",
       "    <tr>\n",
       "      <th>armedforcessize</th>\n",
       "      <td>12.371134</td>\n",
       "    </tr>\n",
       "    <tr>\n",
       "      <th>birthrate</th>\n",
       "      <td>3.092784</td>\n",
       "    </tr>\n",
       "    <tr>\n",
       "      <th>callingcode</th>\n",
       "      <td>0.515464</td>\n",
       "    </tr>\n",
       "    <tr>\n",
       "      <th>capital/majorcity</th>\n",
       "      <td>1.546392</td>\n",
       "    </tr>\n",
       "    <tr>\n",
       "      <th>co2-emissions</th>\n",
       "      <td>3.608247</td>\n",
       "    </tr>\n",
       "    <tr>\n",
       "      <th>cpi</th>\n",
       "      <td>8.762887</td>\n",
       "    </tr>\n",
       "    <tr>\n",
       "      <th>cpichange</th>\n",
       "      <td>8.247423</td>\n",
       "    </tr>\n",
       "    <tr>\n",
       "      <th>currency-code</th>\n",
       "      <td>7.731959</td>\n",
       "    </tr>\n",
       "    <tr>\n",
       "      <th>fertilityrate</th>\n",
       "      <td>3.608247</td>\n",
       "    </tr>\n",
       "    <tr>\n",
       "      <th>forestedarea</th>\n",
       "      <td>3.608247</td>\n",
       "    </tr>\n",
       "    <tr>\n",
       "      <th>gasolineprice</th>\n",
       "      <td>9.793814</td>\n",
       "    </tr>\n",
       "    <tr>\n",
       "      <th>gdp</th>\n",
       "      <td>1.030928</td>\n",
       "    </tr>\n",
       "    <tr>\n",
       "      <th>grossprimaryeducationenrollment</th>\n",
       "      <td>3.608247</td>\n",
       "    </tr>\n",
       "    <tr>\n",
       "      <th>grosstertiaryeducationenrollment</th>\n",
       "      <td>6.185567</td>\n",
       "    </tr>\n",
       "    <tr>\n",
       "      <th>infantmortality</th>\n",
       "      <td>3.092784</td>\n",
       "    </tr>\n",
       "    <tr>\n",
       "      <th>largestcity</th>\n",
       "      <td>3.092784</td>\n",
       "    </tr>\n",
       "    <tr>\n",
       "      <th>lifeexpectancy</th>\n",
       "      <td>4.123711</td>\n",
       "    </tr>\n",
       "    <tr>\n",
       "      <th>maternalmortalityratio</th>\n",
       "      <td>7.216495</td>\n",
       "    </tr>\n",
       "    <tr>\n",
       "      <th>minimumwage</th>\n",
       "      <td>22.680412</td>\n",
       "    </tr>\n",
       "    <tr>\n",
       "      <th>officiallanguage</th>\n",
       "      <td>2.061856</td>\n",
       "    </tr>\n",
       "    <tr>\n",
       "      <th>outofpockethealthexpenditure</th>\n",
       "      <td>3.608247</td>\n",
       "    </tr>\n",
       "    <tr>\n",
       "      <th>physiciansperthousand</th>\n",
       "      <td>3.608247</td>\n",
       "    </tr>\n",
       "    <tr>\n",
       "      <th>population</th>\n",
       "      <td>0.515464</td>\n",
       "    </tr>\n",
       "    <tr>\n",
       "      <th>population:laborforceparticipation</th>\n",
       "      <td>9.793814</td>\n",
       "    </tr>\n",
       "    <tr>\n",
       "      <th>taxrevenue</th>\n",
       "      <td>13.402062</td>\n",
       "    </tr>\n",
       "    <tr>\n",
       "      <th>totaltaxrate</th>\n",
       "      <td>6.185567</td>\n",
       "    </tr>\n",
       "    <tr>\n",
       "      <th>unemploymentrate</th>\n",
       "      <td>9.793814</td>\n",
       "    </tr>\n",
       "    <tr>\n",
       "      <th>urban_population</th>\n",
       "      <td>2.577320</td>\n",
       "    </tr>\n",
       "  </tbody>\n",
       "</table>\n",
       "</div>"
      ],
      "text/plain": [
       "                                      %_nulos\n",
       "abbreviation                         3.608247\n",
       "agriculturalland                     3.608247\n",
       "landarea                             0.515464\n",
       "armedforcessize                     12.371134\n",
       "birthrate                            3.092784\n",
       "callingcode                          0.515464\n",
       "capital/majorcity                    1.546392\n",
       "co2-emissions                        3.608247\n",
       "cpi                                  8.762887\n",
       "cpichange                            8.247423\n",
       "currency-code                        7.731959\n",
       "fertilityrate                        3.608247\n",
       "forestedarea                         3.608247\n",
       "gasolineprice                        9.793814\n",
       "gdp                                  1.030928\n",
       "grossprimaryeducationenrollment      3.608247\n",
       "grosstertiaryeducationenrollment     6.185567\n",
       "infantmortality                      3.092784\n",
       "largestcity                          3.092784\n",
       "lifeexpectancy                       4.123711\n",
       "maternalmortalityratio               7.216495\n",
       "minimumwage                         22.680412\n",
       "officiallanguage                     2.061856\n",
       "outofpockethealthexpenditure         3.608247\n",
       "physiciansperthousand                3.608247\n",
       "population                           0.515464\n",
       "population:laborforceparticipation   9.793814\n",
       "taxrevenue                          13.402062\n",
       "totaltaxrate                         6.185567\n",
       "unemploymentrate                     9.793814\n",
       "urban_population                     2.577320"
      ]
     },
     "execution_count": 6,
     "metadata": {},
     "output_type": "execute_result"
    }
   ],
   "source": [
    "# Calculamos el porcentaje de nulos que tenemos para cada columna\n",
    "(df.isnull().sum() / df.shape[0]) * 100\n",
    "\n",
    "# Lo convertimos a DataFrame con porcentaje de nulos \n",
    "df_nulos = pd.DataFrame((df.isnull().sum() / df.shape[0]) * 100, columns = [\"%_nulos\"])\n",
    "\n",
    "# filtramos el DataFrame para quedarnos solo con aquellas columnas que tengan nulos\n",
    "df_nulos[df_nulos[\"%_nulos\"] > 0]"
   ]
  },
  {
   "cell_type": "code",
   "execution_count": 7,
   "metadata": {},
   "outputs": [
    {
     "name": "stdout",
     "output_type": "stream",
     "text": [
      "Las columnas categóricas que tienen nulos son : \n",
      " \n",
      "Index(['abbreviation', 'capital/majorcity', 'currency-code', 'largestcity',\n",
      "       'officiallanguage'],\n",
      "      dtype='object')\n"
     ]
    }
   ],
   "source": [
    "# Obtenemos la lista de columnas categóricas que tienen nulos: \n",
    "nulos_cat = df[df.columns[df.isnull().any()]].select_dtypes(include = \"O\").columns\n",
    "print(\"Las columnas categóricas que tienen nulos son : \\n \")\n",
    "print(nulos_cat)"
   ]
  },
  {
   "cell_type": "code",
   "execution_count": 8,
   "metadata": {},
   "outputs": [
    {
     "name": "stdout",
     "output_type": "stream",
     "text": [
      "La distribución de las categorías para la columna ABBREVIATION\n"
     ]
    },
    {
     "data": {
      "text/plain": [
       "abbreviation\n",
       "AF    0.005155\n",
       "PG    0.005155\n",
       "NI    0.005155\n",
       "NE    0.005155\n",
       "NG    0.005155\n",
       "        ...   \n",
       "GR    0.005155\n",
       "GD    0.005155\n",
       "GT    0.005155\n",
       "GN    0.005155\n",
       "ZW    0.005155\n",
       "Name: count, Length: 187, dtype: float64"
      ]
     },
     "metadata": {},
     "output_type": "display_data"
    },
    {
     "name": "stdout",
     "output_type": "stream",
     "text": [
      "........................\n",
      "La distribución de las categorías para la columna CAPITAL/MAJORCITY\n"
     ]
    },
    {
     "data": {
      "text/plain": [
       "capital/majorcity\n",
       "Kabul                    0.005155\n",
       "Ngerulmud                0.005155\n",
       "Wellington               0.005155\n",
       "Managua                  0.005155\n",
       "Niamey                   0.005155\n",
       "                           ...   \n",
       "Athens                   0.005155\n",
       "St. George's, Grenada    0.005155\n",
       "Guatemala City           0.005155\n",
       "Conakry                  0.005155\n",
       "Harare                   0.005155\n",
       "Name: count, Length: 191, dtype: float64"
      ]
     },
     "metadata": {},
     "output_type": "display_data"
    },
    {
     "name": "stdout",
     "output_type": "stream",
     "text": [
      "........................\n",
      "La distribución de las categorías para la columna CURRENCY-CODE\n"
     ]
    },
    {
     "data": {
      "text/plain": [
       "currency-code\n",
       "EUR    0.118557\n",
       "XOF    0.041237\n",
       "USD    0.030928\n",
       "XCD    0.030928\n",
       "XAF    0.025773\n",
       "         ...   \n",
       "GMD    0.005155\n",
       "FJD    0.005155\n",
       "ETB    0.005155\n",
       "ERN    0.005155\n",
       "ZMW    0.005155\n",
       "Name: count, Length: 132, dtype: float64"
      ]
     },
     "metadata": {},
     "output_type": "display_data"
    },
    {
     "name": "stdout",
     "output_type": "stream",
     "text": [
      "........................\n",
      "La distribución de las categorías para la columna LARGESTCITY\n"
     ]
    },
    {
     "data": {
      "text/plain": [
       "largestcity\n",
       "Kabul                    0.005155\n",
       "Panama City              0.005155\n",
       "Managua                  0.005155\n",
       "Niamey                   0.005155\n",
       "Lagos                    0.005155\n",
       "                           ...   \n",
       "Accra                    0.005155\n",
       "Macedonia                0.005155\n",
       "St. George's, Grenada    0.005155\n",
       "Guatemala City           0.005155\n",
       "Harare                   0.005155\n",
       "Name: count, Length: 188, dtype: float64"
      ]
     },
     "metadata": {},
     "output_type": "display_data"
    },
    {
     "name": "stdout",
     "output_type": "stream",
     "text": [
      "........................\n",
      "La distribución de las categorías para la columna OFFICIALLANGUAGE\n"
     ]
    },
    {
     "data": {
      "text/plain": [
       "officiallanguage\n",
       "English             0.159794\n",
       "French              0.128866\n",
       "Spanish             0.097938\n",
       "Arabic              0.092784\n",
       "Portuguese          0.036082\n",
       "                      ...   \n",
       "Albanian            0.005155\n",
       "Jamaican English    0.005155\n",
       "Lao                 0.005155\n",
       "Latvian             0.005155\n",
       "Shona               0.005155\n",
       "Name: count, Length: 76, dtype: float64"
      ]
     },
     "metadata": {},
     "output_type": "display_data"
    },
    {
     "name": "stdout",
     "output_type": "stream",
     "text": [
      "........................\n"
     ]
    }
   ],
   "source": [
    "# sacamos el 'value_counts()' de cada una de las columnas categóricas que tienen nulos para saber como es la distribución de sus categorías\n",
    "for col in nulos_cat:\n",
    "    print(f\"La distribución de las categorías para la columna {col.upper()}\")\n",
    "    display(df[col].value_counts() / df.shape[0])\n",
    "    print(\"........................\")"
   ]
  },
  {
   "cell_type": "code",
   "execution_count": 9,
   "metadata": {},
   "outputs": [
    {
     "name": "stdout",
     "output_type": "stream",
     "text": [
      "Las columnas numéricas que tienen nulos son : \n",
      " \n",
      "Index(['agriculturalland', 'landarea', 'armedforcessize', 'birthrate',\n",
      "       'callingcode', 'co2-emissions', 'cpi', 'cpichange', 'fertilityrate',\n",
      "       'forestedarea', 'gasolineprice', 'gdp',\n",
      "       'grossprimaryeducationenrollment', 'grosstertiaryeducationenrollment',\n",
      "       'infantmortality', 'lifeexpectancy', 'maternalmortalityratio',\n",
      "       'minimumwage', 'outofpockethealthexpenditure', 'physiciansperthousand',\n",
      "       'population', 'population:laborforceparticipation', 'taxrevenue',\n",
      "       'totaltaxrate', 'unemploymentrate', 'urban_population'],\n",
      "      dtype='object')\n"
     ]
    }
   ],
   "source": [
    "# Obtenemos la lista de columnas numéricas que tienen nulos\n",
    "nulos_num = df[df.columns[df.isnull().any()]].select_dtypes(include = np.number).columns\n",
    "print(\"Las columnas numéricas que tienen nulos son : \\n \")\n",
    "print(nulos_num)"
   ]
  },
  {
   "cell_type": "code",
   "execution_count": 10,
   "metadata": {},
   "outputs": [
    {
     "data": {
      "text/plain": [
       "agriculturalland                      0.036082\n",
       "landarea                              0.005155\n",
       "armedforcessize                       0.123711\n",
       "birthrate                             0.030928\n",
       "callingcode                           0.005155\n",
       "co2-emissions                         0.036082\n",
       "cpi                                   0.087629\n",
       "cpichange                             0.082474\n",
       "fertilityrate                         0.036082\n",
       "forestedarea                          0.036082\n",
       "gasolineprice                         0.097938\n",
       "gdp                                   0.010309\n",
       "grossprimaryeducationenrollment       0.036082\n",
       "grosstertiaryeducationenrollment      0.061856\n",
       "infantmortality                       0.030928\n",
       "lifeexpectancy                        0.041237\n",
       "maternalmortalityratio                0.072165\n",
       "minimumwage                           0.226804\n",
       "outofpockethealthexpenditure          0.036082\n",
       "physiciansperthousand                 0.036082\n",
       "population                            0.005155\n",
       "population:laborforceparticipation    0.097938\n",
       "taxrevenue                            0.134021\n",
       "totaltaxrate                          0.061856\n",
       "unemploymentrate                      0.097938\n",
       "urban_population                      0.025773\n",
       "dtype: float64"
      ]
     },
     "execution_count": 10,
     "metadata": {},
     "output_type": "execute_result"
    }
   ],
   "source": [
    "# lo primero que vamos a hacer es calcular el número de nulos que tenemos en cada una de las columnas numericas\n",
    "df[nulos_num].isnull().sum() / df.shape[0]"
   ]
  },
  {
   "cell_type": "markdown",
   "metadata": {},
   "source": [
    "\n",
    "2. Selección de Método de Imputación: Discute en tu compañera cuál sería la mejor estrategia para manejar los valores nulos en cada una de las columnas identificadas en el paso anterior.\n"
   ]
  },
  {
   "cell_type": "code",
   "execution_count": null,
   "metadata": {},
   "outputs": [],
   "source": []
  },
  {
   "cell_type": "markdown",
   "metadata": {},
   "source": [
    "\n",
    "3. Imputación de Valores Nulos: Implementa el método de imputación seleccionado en el paso 2 para llenar los valores nulos en las columnas.\n"
   ]
  },
  {
   "cell_type": "code",
   "execution_count": null,
   "metadata": {},
   "outputs": [],
   "source": []
  },
  {
   "cell_type": "markdown",
   "metadata": {},
   "source": [
    "\n",
    "4. Informe: Añade al final de un jupyter una explicación breve que describa las columnas que tenían valores nulos, cómo decidiste imputarlos y cualquier observación adicional que consideres importante sobre el proceso de limpieza de datos.\n"
   ]
  },
  {
   "cell_type": "code",
   "execution_count": null,
   "metadata": {},
   "outputs": [],
   "source": []
  }
 ],
 "metadata": {
  "kernelspec": {
   "display_name": "Python 3",
   "language": "python",
   "name": "python3"
  },
  "language_info": {
   "codemirror_mode": {
    "name": "ipython",
    "version": 3
   },
   "file_extension": ".py",
   "mimetype": "text/x-python",
   "name": "python",
   "nbconvert_exporter": "python",
   "pygments_lexer": "ipython3",
   "version": "3.9.13"
  }
 },
 "nbformat": 4,
 "nbformat_minor": 2
}
